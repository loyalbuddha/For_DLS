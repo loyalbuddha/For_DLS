{
 "cells": [
  {
   "cell_type": "markdown",
   "metadata": {},
   "source": [
    "Домашнее задание 2: библиотека Numpy и линейная алгебра"
   ]
  },
  {
   "cell_type": "code",
   "execution_count": 8,
   "metadata": {},
   "outputs": [],
   "source": [
    "import numpy as np\n",
    "import pandas as pd\n",
    "import matplotlib.pyplot as plt\n",
    "\n",
    "from scipy import ndimage  # спецификатор для работы с изображениями\n",
    "from scipy import misc\n",
    "import scipy.stats as sps\n",
    "\n",
    "from PIL import Image\n",
    "\n",
    "from random import randint\n",
    "\n",
    "%matplotlib inline"
   ]
  },
  {
   "cell_type": "markdown",
   "metadata": {},
   "source": [
    "Что такое NumPy? - это питоновская библиотека для работы с массивами \n",
    "Зачем используется и почему работает быстрее? - сам по себе питон не адаптирован к простой работе с массивами, а она адаптирована \n",
    "Что такое линейная алгебра? - это раздел математики, в котором оперируют матрицами\n",
    "Как она связана с машинным обучением и глубоким обучением? - в машинном обучении мы будем оперировать матрицами"
   ]
  },
  {
   "cell_type": "markdown",
   "metadata": {},
   "source": [
    "Задание 1\n",
    "\n",
    "В первой задаче вам предлагается перемножить две квадратные матрицы двумя способами -- без использования пакета numpy и с ним."
   ]
  },
  {
   "cell_type": "code",
   "execution_count": null,
   "metadata": {},
   "outputs": [],
   "source": [
    "# Для генерации матриц используем фукнцию random -- она используется для генерации случайных объектов \n",
    "# функция sample создает случайную выборку. В качестве аргумента ей передается кортеж (i,j), здесь i -- число строк,\n",
    "# j -- число столбцов.\n",
    "a = np.random.sample((10,10))\n",
    "b = np.random.sample((10,10)) \n",
    "# выведите размерность (ранг) каждой матрицы с помощью функции ndim.\n",
    "print(a.ndim)\n",
    "print(b.ndim)\n",
    "# Используйте функцию shape, что она вывела?\n",
    "print(a.shape) # shape даёт число элементов по каждому из направлений матрицы\n",
    "print(b.shape)\n",
    "# ========\n",
    "# тут можно писать код\n",
    "\n",
    "def sc_matrix(matrix_first, matrix_second):\n",
    "    ''' функция скалярного перемножения 2 матриц без np '''\n",
    "    b = len(matrix_first[0]) != len(matrix_second)\n",
    "    if b:\n",
    "        return print('оу оу оу, такие матрицы перемножать скалярно не выйдет, число столбцов первой матрицы не равно числу строк второй')\n",
    "    else:\n",
    "        result_matrix = [[0 for el in range(0, len(matrix_second[0]))] for le in range(0, len(matrix_first))]\n",
    "        for i in range(0, len(matrix_first)):\n",
    "            for j in range(0, len(matrix_second[0])):\n",
    "                for r in range(0, len(matrix_first[0])):\n",
    "                    result_matrix[i][j] += matrix_first[i][r]*matrix_second[r][j]\n",
    "        return np.array(result_matrix)\n",
    "    \n",
    "    pass\n",
    "\n",
    "def sc_matrix_np(matrix_first, matrix_second):\n",
    "    try:\n",
    "        return np.dot(matrix_first, matrix_second)\n",
    "    except ValueError as ve:\n",
    "        return print(f'ошибка: {ve}')\n",
    "\n",
    "# ========\n",
    "print(f'{a}\\n')\n",
    "print(b)"
   ]
  },
  {
   "cell_type": "code",
   "execution_count": null,
   "metadata": {},
   "outputs": [],
   "source": [
    "%%timeit\n",
    "# засечем время работы функции без NumPy\n",
    "sc_matrix(a,b)"
   ]
  },
  {
   "cell_type": "code",
   "execution_count": null,
   "metadata": {},
   "outputs": [],
   "source": [
    "%%timeit\n",
    "# засечем время работы функции с NumPy\n",
    "sc_matrix_np(a,b)"
   ]
  },
  {
   "cell_type": "markdown",
   "metadata": {},
   "source": [
    "Разница $10^3$ нумпай впереди"
   ]
  },
  {
   "cell_type": "markdown",
   "metadata": {},
   "source": [
    "\n",
    "Задание 2\n",
    "\n",
    "Напишите функцию, которая по данной последовательности $\\{A_i\\}_{i=1}^n$ строит последовательность $S_n$, где $S_k = \\frac{A_1 + ... + A_k}{k}$. Аналогично -- с помощью библиотеки NumPy и без нее. Сравните скорость, объясните результат."
   ]
  },
  {
   "cell_type": "code",
   "execution_count": 9,
   "metadata": {},
   "outputs": [
    {
     "name": "stdout",
     "output_type": "stream",
     "text": [
      "Enter n, число элементов последовательности : 3\n"
     ]
    }
   ],
   "source": [
    "n = int(input('Enter n, число элементов последовательности : '))\n",
    "#a_list = np.random.sample((n,1))\n",
    "#print(a_list)\n",
    "# без библиотеки нумпай\n",
    "a_list_sec = [randint(0, 10) for i in range(0, n)] # sps.uniform.rvs(size=10 ** 7) #\n",
    "A = a_list_sec\n",
    "#print(a_list_sec)\n",
    "#print(a_list_sec.ndim)\n",
    "#print(a_list_sec.shape)\n",
    "#print(a_list_sec.size)\n",
    "def wo_np_list(a_list_sec):\n",
    "    ''' функция считает последовательность без юзания нумпая '''\n",
    "    # print(f'исходный вектор : {a_list_sec}')\n",
    "    a_sum = 0\n",
    "    s_list = [0 for i in range(0, len(a_list_sec))]\n",
    "    for i, j in enumerate(a_list_sec):\n",
    "        a_sum += j\n",
    "        s_list[i] = round(a_sum / (i+1), 2)\n",
    "    return s_list # f'конечная последовательность : {s_list}'\n",
    "\n",
    "#s_list = wo_np_list(a_list_sec)\n",
    "#print(s_list)\n",
    "\n",
    "# с библиотекой нумпай\n",
    "def w_np_list(a_list):\n",
    "    ''' функция считает последовательность с юзанием нумпая '''\n",
    "    a_list_sec = np.array(a_list)\n",
    "    # print(f'исходный вектор : {a_list_sec}')\n",
    "    a_list_test = np.array([round(a_list_sec[:i].sum()/(i),2) for i in range(1, n+1)])\n",
    "    return a_list_test # f'конечная последовательность : {a_list_test}'\n",
    "\n",
    "#s_list = w_np_list(a_list_sec)\n",
    "#print(s_list)"
   ]
  },
  {
   "cell_type": "code",
   "execution_count": 22,
   "metadata": {},
   "outputs": [
    {
     "name": "stdout",
     "output_type": "stream",
     "text": [
      "3.53 µs ± 250 ns per loop (mean ± std. dev. of 7 runs, 100000 loops each)\n",
      "31.5 µs ± 3.39 µs per loop (mean ± std. dev. of 7 runs, 10000 loops each)\n"
     ]
    },
    {
     "data": {
      "text/plain": [
       "0.0"
      ]
     },
     "execution_count": 22,
     "metadata": {},
     "output_type": "execute_result"
    }
   ],
   "source": [
    "%timeit S1 = wo_np_list(A)\n",
    "%timeit S2 = w_np_list(A)\n",
    "S1 = wo_np_list(A)\n",
    "S2 = w_np_list(A)\n",
    "#проверим корректность:\n",
    "np.abs(S1 - S2).sum()"
   ]
  },
  {
   "cell_type": "markdown",
   "metadata": {},
   "source": [
    "Задание 3\n",
    "\n",
    "Пусть задан некоторый массив $X$. Надо построить новый массив, где все элементы с нечетными индексами требуется заменить на число $a$ (если оно не указано, то на 1). Все четные элементы исходного массива нужно возвести в куб и записать в обратном порядке относительно позиций этих элементов. Массив $X$ при этом должен остаться без изменений. В конце требуется слить массив $X$ с преобразованным $X$ и вывести в обратном порядке."
   ]
  },
  {
   "cell_type": "code",
   "execution_count": 57,
   "metadata": {
    "scrolled": true
   },
   "outputs": [
    {
     "name": "stdout",
     "output_type": "stream",
     "text": [
      "[1, -729, 1, 125, 1, 64, 1, -8, 1, 512, 1, 216, 1, -216, 1, 0, -6, -1, 6, -3, 8, -5, -2, 3, 4, 0, 5, -6, -9, -6]\n"
     ]
    }
   ],
   "source": [
    "x_list = [randint(-10, 10) for i in range(0, randint(0, 50))]\n",
    "def wo_np_list(x_list, a = 1):\n",
    "    ''' без нумпая делаем всё что нужно '''\n",
    "    xx_list_rev = x_list[::-1]\n",
    "    xx_list = [a if i%2 == 0 else xx_list_rev[i]**3 for i in range(0, len(x_list))]\n",
    "    return (x_list + xx_list)[::-1]\n",
    "print(wo_np_list(x_list))\n",
    "\n",
    "def wo_np_list_sec(x_list, a = 1):\n",
    "    ''' без нумпая делаем всё что нужно. не через генератор '''\n",
    "    xx_list_rev = x_list[::-1]\n",
    "    xx_list = [a if i%2 == 0 else xx_list_rev[i]**3 for i in range(0, len(x_list))]\n",
    "    return (x_list + xx_list)[::-1]\n",
    "\n",
    "def w_np_list(x_list, a = 1):\n",
    "    ''' с нумпаем делаем всё что нужно '''\n",
    "    x_list_second = np.array(x_list)\n",
    "    x_list = np.array(x_list)\n",
    "    x_list_one[::4] = a / (x_list**3) \n",
    "    x_list_rev =  x_list[::-1] * \n",
    "    \n",
    "    \n"
   ]
  },
  {
   "cell_type": "code",
   "execution_count": 101,
   "metadata": {},
   "outputs": [
    {
     "name": "stdout",
     "output_type": "stream",
     "text": [
      "[2 2 2 2 2 2 2 2 2 2 2 2 2 2 2 2 2 2 2 2 2 2 2 2 2 2 2 2 2 2 2 2 2 2 2 2 2\n",
      " 2 2]\n",
      "[8 2 2 2 2 2 2 2 2 2 2 2 2 2 2 2 2 2 2 2 2 2 2 2 2 2 2 2 2 2 2 2 2 2 2 2 2\n",
      " 2 2]\n",
      "[2 2 2 2 2 2 2 2 2 2 2 2 2 2 2 2 2 2 2 2 2 2 2 2 2 2 2 2 2 2 2 2 2 2 2 2 2\n",
      " 2 2]\n",
      "1\n"
     ]
    }
   ],
   "source": [
    "x_list = [2 for i in range(0, randint(0, 50))] #randint(1, 10)\n",
    "x_list_second = np.array(x_list)\n",
    "print(x_list_second)\n",
    "x_list = np.array(x_list)\n",
    "list_one = np.ones((len(x_list)), dtype=int)\n",
    "i = 0\n",
    "for i in range(x_list_second.ndim):\n",
    "    if i \n",
    "    x_list_second[i]\n",
    "print(x_list)\n",
    "print(x_list.ndim)\n",
    "#x_list_rev =  x_list[::-1]"
   ]
  }
 ],
 "metadata": {
  "kernelspec": {
   "display_name": "Python 3",
   "language": "python",
   "name": "python3"
  },
  "language_info": {
   "codemirror_mode": {
    "name": "ipython",
    "version": 3
   },
   "file_extension": ".py",
   "mimetype": "text/x-python",
   "name": "python",
   "nbconvert_exporter": "python",
   "pygments_lexer": "ipython3",
   "version": "3.7.4"
  }
 },
 "nbformat": 4,
 "nbformat_minor": 4
}
