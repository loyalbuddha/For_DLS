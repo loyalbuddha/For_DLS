{
 "cells": [
  {
   "cell_type": "markdown",
   "metadata": {},
   "source": [
    "Домашнее задание 2: библиотека Numpy и линейная алгебра"
   ]
  },
  {
   "cell_type": "code",
   "execution_count": 2,
   "metadata": {},
   "outputs": [],
   "source": [
    "import numpy as np\n",
    "import pandas as pd\n",
    "import matplotlib.pyplot as plt\n",
    "\n",
    "from scipy import ndimage  # спецификатор для работы с изображениями\n",
    "from scipy import misc\n",
    "import scipy.stats as sps\n",
    "\n",
    "from PIL import Image\n",
    "\n",
    "from random import randint\n",
    "\n",
    "%matplotlib inline"
   ]
  },
  {
   "cell_type": "markdown",
   "metadata": {},
   "source": [
    "Что такое NumPy? - это питоновская библиотека для работы с массивами \n",
    "Зачем используется и почему работает быстрее? - сам по себе питон не адаптирован к простой работе с массивами, а она адаптирована \n",
    "Что такое линейная алгебра? - это раздел математики, в котором оперируют матрицами\n",
    "Как она связана с машинным обучением и глубоким обучением? - в машинном обучении мы будем оперировать матрицами"
   ]
  },
  {
   "cell_type": "markdown",
   "metadata": {},
   "source": [
    "Задание 1\n",
    "\n",
    "В первой задаче вам предлагается перемножить две квадратные матрицы двумя способами -- без использования пакета numpy и с ним."
   ]
  },
  {
   "cell_type": "code",
   "execution_count": null,
   "metadata": {},
   "outputs": [],
   "source": [
    "# Для генерации матриц используем фукнцию random -- она используется для генерации случайных объектов \n",
    "# функция sample создает случайную выборку. В качестве аргумента ей передается кортеж (i,j), здесь i -- число строк,\n",
    "# j -- число столбцов.\n",
    "a = np.random.sample((10,10))\n",
    "b = np.random.sample((10,10)) \n",
    "# выведите размерность (ранг) каждой матрицы с помощью функции ndim.\n",
    "print(a.ndim)\n",
    "print(b.ndim)\n",
    "# Используйте функцию shape, что она вывела?\n",
    "print(a.shape) # shape даёт число элементов по каждому из направлений матрицы\n",
    "print(b.shape)\n",
    "# ========\n",
    "# тут можно писать код\n",
    "\n",
    "def sc_matrix(matrix_first, matrix_second):\n",
    "    ''' функция скалярного перемножения 2 матриц без np '''\n",
    "    b = len(matrix_first[0]) != len(matrix_second)\n",
    "    if b:\n",
    "        return print('оу оу оу, такие матрицы перемножать скалярно не выйдет, число столбцов первой матрицы не равно числу строк второй')\n",
    "    else:\n",
    "        result_matrix = [[0 for el in range(0, len(matrix_second[0]))] for le in range(0, len(matrix_first))]\n",
    "        for i in range(0, len(matrix_first)):\n",
    "            for j in range(0, len(matrix_second[0])):\n",
    "                for r in range(0, len(matrix_first[0])):\n",
    "                    result_matrix[i][j] += matrix_first[i][r]*matrix_second[r][j]\n",
    "        return np.array(result_matrix)\n",
    "\n",
    "def sc_matrix_np(matrix_first, matrix_second):\n",
    "    ''' функция скалярного перемножения 2 матриц с np '''\n",
    "    try:\n",
    "        return np.dot(matrix_first, matrix_second)\n",
    "    except ValueError as ve:\n",
    "        return print(f'ошибка: {ve}')\n",
    "\n",
    "# ========\n",
    "print(f'{a}\\n')\n",
    "print(b)"
   ]
  },
  {
   "cell_type": "code",
   "execution_count": null,
   "metadata": {},
   "outputs": [],
   "source": [
    "%%timeit\n",
    "# засечем время работы функции без NumPy\n",
    "sc_matrix(a,b)"
   ]
  },
  {
   "cell_type": "code",
   "execution_count": null,
   "metadata": {},
   "outputs": [],
   "source": [
    "%%timeit\n",
    "# засечем время работы функции с NumPy\n",
    "sc_matrix_np(a,b)"
   ]
  },
  {
   "cell_type": "markdown",
   "metadata": {},
   "source": [
    "Разница $10^3$ нумпай впереди"
   ]
  },
  {
   "cell_type": "markdown",
   "metadata": {},
   "source": [
    "\n",
    "Задание 2\n",
    "\n",
    "Напишите функцию, которая по данной последовательности $\\{A_i\\}_{i=1}^n$ строит последовательность $S_n$, где $S_k = \\frac{A_1 + ... + A_k}{k}$. Аналогично -- с помощью библиотеки NumPy и без нее. Сравните скорость, объясните результат."
   ]
  },
  {
   "cell_type": "code",
   "execution_count": 9,
   "metadata": {},
   "outputs": [
    {
     "name": "stdout",
     "output_type": "stream",
     "text": [
      "Enter n, число элементов последовательности : 3\n"
     ]
    }
   ],
   "source": [
    "n = int(input('Enter n, число элементов последовательности : '))\n",
    "#a_list = np.random.sample((n,1))\n",
    "#print(a_list)\n",
    "# без библиотеки нумпай\n",
    "a_list_sec = [randint(0, 10) for i in range(0, n)] # sps.uniform.rvs(size=10 ** 7) #\n",
    "A = a_list_sec\n",
    "#print(a_list_sec)\n",
    "#print(a_list_sec.ndim)\n",
    "#print(a_list_sec.shape)\n",
    "#print(a_list_sec.size)\n",
    "def wo_np_list(a_list_sec):\n",
    "    ''' функция считает последовательность без юзания нумпая '''\n",
    "    # print(f'исходный вектор : {a_list_sec}')\n",
    "    a_sum = 0\n",
    "    s_list = [0 for i in range(0, len(a_list_sec))]\n",
    "    for i, j in enumerate(a_list_sec):\n",
    "        a_sum += j\n",
    "        s_list[i] = round(a_sum / (i+1), 2)\n",
    "    return s_list # f'конечная последовательность : {s_list}'\n",
    "\n",
    "#s_list = wo_np_list(a_list_sec)\n",
    "#print(s_list)\n",
    "\n",
    "# с библиотекой нумпай\n",
    "def w_np_list(a_list):\n",
    "    ''' функция считает последовательность с юзанием нумпая '''\n",
    "    a_list_sec = np.array(a_list)\n",
    "    # print(f'исходный вектор : {a_list_sec}')\n",
    "    a_list_test = np.array([round(a_list_sec[:i].sum()/(i),2) for i in range(1, n+1)])\n",
    "    return a_list_test # f'конечная последовательность : {a_list_test}'\n",
    "\n",
    "#s_list = w_np_list(a_list_sec)\n",
    "#print(s_list)"
   ]
  },
  {
   "cell_type": "code",
   "execution_count": 22,
   "metadata": {},
   "outputs": [
    {
     "name": "stdout",
     "output_type": "stream",
     "text": [
      "3.53 µs ± 250 ns per loop (mean ± std. dev. of 7 runs, 100000 loops each)\n",
      "31.5 µs ± 3.39 µs per loop (mean ± std. dev. of 7 runs, 10000 loops each)\n"
     ]
    },
    {
     "data": {
      "text/plain": [
       "0.0"
      ]
     },
     "execution_count": 22,
     "metadata": {},
     "output_type": "execute_result"
    }
   ],
   "source": [
    "%timeit S1 = wo_np_list(A)\n",
    "%timeit S2 = w_np_list(A)\n",
    "S1 = wo_np_list(A)\n",
    "S2 = w_np_list(A)\n",
    "#проверим корректность:\n",
    "np.abs(S1 - S2).sum()"
   ]
  },
  {
   "cell_type": "markdown",
   "metadata": {},
   "source": [
    "Задание 3\n",
    "\n",
    "Пусть задан некоторый массив $X$. Надо построить новый массив, где все элементы с нечетными индексами требуется заменить на число $a$ (если оно не указано, то на 1). Все четные элементы исходного массива нужно возвести в куб и записать в обратном порядке относительно позиций этих элементов. Массив $X$ при этом должен остаться без изменений. В конце требуется слить массив $X$ с преобразованным $X$ и вывести в обратном порядке."
   ]
  },
  {
   "cell_type": "code",
   "execution_count": 9,
   "metadata": {
    "scrolled": true
   },
   "outputs": [
    {
     "ename": "SyntaxError",
     "evalue": "invalid syntax (<ipython-input-9-17790c8067b8>, line 20)",
     "output_type": "error",
     "traceback": [
      "\u001b[1;36m  File \u001b[1;32m\"<ipython-input-9-17790c8067b8>\"\u001b[1;36m, line \u001b[1;32m20\u001b[0m\n\u001b[1;33m    x_list_rev =  x_list[::-1] *\u001b[0m\n\u001b[1;37m                                 ^\u001b[0m\n\u001b[1;31mSyntaxError\u001b[0m\u001b[1;31m:\u001b[0m invalid syntax\n"
     ]
    }
   ],
   "source": [
    "x_list = [randint(-10, 10) for i in range(0, randint(0, 50))]\n",
    "def wo_np_list(x_list, a = 1):\n",
    "    ''' без нумпая делаем всё что нужно '''\n",
    "    xx_list_rev = x_list[::-1]\n",
    "    xx_list = [a if i%2 == 0 else xx_list_rev[len(x_list) - i]**3 for i in range(0, len(x_list))]\n",
    "    return (x_list + xx_list)[::-1]\n",
    "print(wo_np_list(x_list))\n",
    "\n",
    "#def wo_np_list_sec(x_list, a = 1):\n",
    "#    ''' без нумпая делаем всё что нужно. не через генератор '''\n",
    "#    xx_list_rev = x_list[::-1]\n",
    "#    xx_list = [a if i%2 == 0 else xx_list_rev[i]**3 for i in range(0, len(x_list))]\n",
    "#    return (x_list + xx_list)[::-1]\n",
    "\n",
    "def w_np_list(x_list, a = 1):\n",
    "    ''' с нумпаем делаем всё что нужно '''\n",
    "    x_list_second = np.array(x_list)\n",
    "    x_list = np.array(x_list)\n",
    "    x_list_one[::4] = a / (x_list**3) \n",
    "    x_list_rev =  x_list[::-1] * \n",
    "    \n",
    "    \n"
   ]
  },
  {
   "cell_type": "code",
   "execution_count": 14,
   "metadata": {},
   "outputs": [
    {
     "name": "stdout",
     "output_type": "stream",
     "text": [
      "[2 2 2]\n",
      "3\n",
      "[1 8 1]\n",
      "1\n"
     ]
    }
   ],
   "source": [
    "x_list = [2 for i in range(0, randint(0, 10))] #randint(1, 10)\n",
    "x_list_second = np.array(x_list)\n",
    "print(x_list_second)\n",
    "print(len(x_list))\n",
    "x_list = np.array(x_list)\n",
    "i = 0\n",
    "for i in range(0, len(x_list)):\n",
    "    if i % 2 == 0:\n",
    "        x_list_second[i] = 1\n",
    "    else: \n",
    "        x_list_second[i] = x_list_second[len(x_list) - i]**3\n",
    "print(x_list_second)\n",
    "print(x_list.ndim)\n",
    "matrix_result = np.concatenate((x_list,x_list_second),axis=0)  "
   ]
  },
  {
   "cell_type": "markdown",
   "metadata": {},
   "source": [
    "Задание 4\n",
    "\n",
    "Вам подаются на вход два вектора a и b в трехмерном пространстве.Заполните их случайными числами. Реализуйте их скалярное произведение с помощью NumPy и без. Засеките время работы, как это показано в заданиях выше."
   ]
  },
  {
   "cell_type": "code",
   "execution_count": 55,
   "metadata": {},
   "outputs": [
    {
     "name": "stdout",
     "output_type": "stream",
     "text": [
      "[297, 741, 616]\n",
      "[400, 708, 187]\n",
      "758620\n",
      "[297, 741, 616]\n",
      "[400, 708, 187]\n",
      "758620\n"
     ]
    }
   ],
   "source": [
    "a_matrix = [randint(0, 1000) for i in range(0, 3)]# [1,2,3] #np.random.randint(0, 10, (3)) \n",
    "b_matrix = [randint(0, 1000) for i in range(0, 3)]# [1,2,3] #np.random.randint(0, 10, (3)).transpose()\n",
    "print(a_matrix)\n",
    "print(b_matrix)\n",
    "\n",
    "def sc_matrix_np(matrix_first, matrix_second):\n",
    "    ''' функция скалярного перемножения 2 матриц с np'''\n",
    "    matrix_first = np.array(matrix_first)\n",
    "    matrix_second = np.array(matrix_second).transpose()\n",
    "    try:\n",
    "        return np.dot(matrix_first, matrix_second) # перемножаем норм на транспонированную\n",
    "    except ValueError as ve:\n",
    "        return print(f'ошибка: {ve}')\n",
    "print(sc_matrix_np(a_matrix, b_matrix))\n",
    "\n",
    "\n",
    "def sc_matrix(matrix_first, matrix_second):\n",
    "    ''' функция скалярного перемножения 2 матриц без np '''\n",
    "    b = len(matrix_first) != len(matrix_second)\n",
    "    if b:\n",
    "        return print('оу оу оу, такие матрицы перемножать скалярно не выйдет, число столбцов первой матрицы не равно числу строк второй')\n",
    "    else:\n",
    "        result_matrix = [0 for el in range(0, len(matrix_second))]\n",
    "        for i in range(0, len(matrix_first)):\n",
    "            result_matrix[i] += matrix_first[i]*matrix_second[i]\n",
    "        return sum(result_matrix)\n",
    "# a_matrix = [1,2,3] #[randint(0, 10) for i in range(0, 3)]\n",
    "# b_matrix = [1,2,3] #[randint(0, 10) for i in range(0, 3)]\n",
    "print(a_matrix)\n",
    "print(b_matrix)\n",
    "print(sc_matrix(a_matrix, b_matrix))"
   ]
  },
  {
   "cell_type": "code",
   "execution_count": 57,
   "metadata": {},
   "outputs": [
    {
     "name": "stdout",
     "output_type": "stream",
     "text": [
      "8.89 µs ± 398 ns per loop (mean ± std. dev. of 7 runs, 100000 loops each)\n",
      "3.37 µs ± 101 ns per loop (mean ± std. dev. of 7 runs, 100000 loops each)\n"
     ]
    },
    {
     "data": {
      "text/plain": [
       "0"
      ]
     },
     "execution_count": 57,
     "metadata": {},
     "output_type": "execute_result"
    }
   ],
   "source": [
    "%timeit product_1 = sc_matrix_np(a_matrix, b_matrix)\n",
    "%timeit product_2 = sc_matrix(a_matrix, b_matrix)\n",
    "# проверим корректность:\n",
    "np.abs(product_1 - product_2).sum()"
   ]
  },
  {
   "cell_type": "markdown",
   "metadata": {},
   "source": [
    "Задание 5*\n",
    "\n",
    "Нужно написать матричное произведение БЕЗ циклов и БЕЗ символа @, БЕЗ np.dot \n",
    "и вообще БЕЗ какой-либо вспомогательной функции из numpy, то есть пользуясь только \n",
    "индексированием, взятем суммы по нужным осям и поэлементным произведенем (да, это возможно). \n",
    "Рекомендуем гуглить по запросу \"NumPy broadcasting\""
   ]
  },
  {
   "cell_type": "code",
   "execution_count": 62,
   "metadata": {},
   "outputs": [
    {
     "name": "stdout",
     "output_type": "stream",
     "text": [
      "[[9 1 8]\n",
      " [6 3 2]\n",
      " [1 2 7]]\n",
      "[[9 9 9]\n",
      " [1 2 5]\n",
      " [1 2 7]]\n",
      "[[81  9 72]\n",
      " [ 9  2 40]\n",
      " [ 9  2 56]]\n"
     ]
    }
   ],
   "source": [
    "a_matrix = np.random.randint(0, 10, (3, 3)) \n",
    "b_matrix = np.random.randint(0, 10, (3, 3)) \n",
    "print(a_matrix)\n",
    "print(b_matrix)\n",
    "\n",
    "def sc_matrix(first_matrix, second_matrix):\n",
    "    ''' скалярное произведение двух матриц без рук '''\n",
    "    ''' силами индексирования, суммы и поэлементного произведения '''\n",
    "    return np.sum(first_matrix.T*second_matrix,axis=0)\n",
    "\n",
    "print(a_matrix * b_matrix)\n",
    "a_matrix[0][0]*b_matrix[0][0] + a_matrix[0][1]*b_matrix[1][0] + a_matrix[0][2]*b_matrix[2][0]\n",
    "\n",
    "    "
   ]
  }
 ],
 "metadata": {
  "kernelspec": {
   "display_name": "Python 3",
   "language": "python",
   "name": "python3"
  },
  "language_info": {
   "codemirror_mode": {
    "name": "ipython",
    "version": 3
   },
   "file_extension": ".py",
   "mimetype": "text/x-python",
   "name": "python",
   "nbconvert_exporter": "python",
   "pygments_lexer": "ipython3",
   "version": "3.7.3"
  }
 },
 "nbformat": 4,
 "nbformat_minor": 4
}
