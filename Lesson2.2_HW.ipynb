{
 "cells": [
  {
   "cell_type": "code",
   "execution_count": 10,
   "metadata": {},
   "outputs": [
    {
     "name": "stdout",
     "output_type": "stream",
     "text": [
      "[[[5 9 7]\n",
      "  [3 4 1]]\n",
      "\n",
      " [[5 9 7]\n",
      "  [3 4 1]]]\n",
      "3\n",
      "(2, 2, 3)\n",
      "12\n"
     ]
    }
   ],
   "source": [
    "#в качестве примера\n",
    "import numpy as np\n",
    "x = [[[5,9,7],[3, 4, 1]],[[5,9,7],[3, 4, 1]]]\n",
    "a = np.array(x)\n",
    "d = a.ndim # число измерений массива\n",
    "s = a.shape # длина массива по каждой оси\n",
    "sz = a.size # число элементов массива\n",
    "print(a)\n",
    "print(d)\n",
    "print(s)\n",
    "print(sz)\n"
   ]
  }
 ],
 "metadata": {
  "kernelspec": {
   "display_name": "Python 3",
   "language": "python",
   "name": "python3"
  },
  "language_info": {
   "codemirror_mode": {
    "name": "ipython",
    "version": 3
   },
   "file_extension": ".py",
   "mimetype": "text/x-python",
   "name": "python",
   "nbconvert_exporter": "python",
   "pygments_lexer": "ipython3",
   "version": "3.7.3"
  }
 },
 "nbformat": 4,
 "nbformat_minor": 4
}
