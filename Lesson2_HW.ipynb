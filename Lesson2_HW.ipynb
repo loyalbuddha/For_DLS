{
 "cells": [
  {
   "cell_type": "markdown",
   "metadata": {},
   "source": [
    "Упражнение 3\n",
    "\n",
    "Перемножьте векторы поэлементно и скалярно:\n",
    "\n",
    "1). (1,2,3) и (10, 100, -4)\n",
    "\n",
    "2). (0, -5, 0.5) и (2, -2.3, 11)\n",
    "\n",
    "3). (1, 1, 1, 1, 1, 1) и (2, -2, -3, -100, 33, 0.55)\n",
    "\n",
    "4). (5, 2) и (1, 2, 3)\n"
   ]
  },
  {
   "cell_type": "code",
   "execution_count": null,
   "metadata": {},
   "outputs": [],
   "source": [
    "# Решение: зачем это решать на листике бумажки, если можно запрогать)) чтобы было интереснее, перемножаем сразу в python\n",
    "dim_matrix = int(input('сколько элементов в одномерной матрице? : '))\n",
    "matrix_first = []\n",
    "matrix_second = []\n",
    "matrix_el_summ = []\n",
    "matrix_sc_summ = 0\n",
    "for i in range(0, dim_matrix):\n",
    "    matrix_first.append(float(input(f'введите {i+1}-й элемент первой одномерной матрицы')))\n",
    "for i in range(0, dim_matrix):\n",
    "    matrix_second.append(float(input(f'введите {i+1}-й элемент второй одномерной матрицы')))\n",
    "    matrix_el_summ.append(matrix_first[i]*matrix_second[i])\n",
    "for i in range(0, dim_matrix):\n",
    "    matrix_sc_summ += matrix_second[i]*matrix_first[i]\n",
    "print(f'Поэлементное перемножение векторов {matrix_first} и {matrix_second} даёт {matrix_el_summ}')\n",
    "print(f'Скалярное произведение векторов {matrix_first} и {matrix_second} даёт {matrix_sc_summ}')"
   ]
  },
  {
   "cell_type": "markdown",
   "metadata": {},
   "source": [
    "Упражнение 4\n",
    "\n",
    "Поделите векторы из пункта 3 предыдущего упражнения.\n"
   ]
  },
  {
   "cell_type": "code",
   "execution_count": null,
   "metadata": {},
   "outputs": [],
   "source": [
    "# Решение: зачем это решать на листике бумажки, если можно запрогать)) чтобы было интереснее, перемножаем сразу в python\n",
    "dim_matrix = int(input('сколько элементов в одномерной матрице? : '))\n",
    "matrix_first = []\n",
    "matrix_second = []\n",
    "matrix_el_summ = []\n",
    "for i in range(0, dim_matrix):\n",
    "    matrix_first.append(float(input(f'введите {i+1}-й элемент первой одномерной матрицы')))\n",
    "for i in range(0, dim_matrix):\n",
    "    matrix_second.append(float(input(f'введите {i+1}-й элемент второй одномерной матрицы')))\n",
    "    matrix_el_summ.append(matrix_first[i]/matrix_second[i])\n",
    "print(f'Поэлементное деление векторов {matrix_first} и {matrix_second} даёт {matrix_el_summ}')"
   ]
  },
  {
   "attachments": {},
   "cell_type": "markdown",
   "metadata": {},
   "source": [
    "\n",
    "Упражнение 5\n",
    "\n",
    "Сложите, вычтите, поэлементно умножьте и поделите матрицы:\n",
    "\n",
    "\\begin{pmatrix}\n",
    "  1 & 2 & 10\\\\\n",
    "  5 & 1 & -13\\\\\n",
    "\\end{pmatrix}\n",
    "и \n",
    "\\begin{pmatrix}\n",
    " -5 & -5 & 3\\\\\n",
    "  0 & 1 & 2\\\\\n",
    "\\end{pmatrix}"
   ]
  },
  {
   "cell_type": "code",
   "execution_count": null,
   "metadata": {},
   "outputs": [],
   "source": [
    "h_matrix_first = int(input('введите число строк матрицы 1 : '))\n",
    "w_matrix_first = int(input('введите число столбцов матрицы 1 : '))\n",
    "h_matrix_second = int(input('введите число строк матрицы 2 : '))\n",
    "w_matrix_second = int(input('введите число столбцов матрицы 2 : '))\n",
    "if h_matrix_first != h_matrix_second or w_matrix_first != w_matrix_second:\n",
    "    print('оу оу оу, к нам с такими матрицами нельзя')\n",
    "else:\n",
    "    matrix_first = [[float(input('введите число:')) for le in range(0, w_matrix_first)] for el in range(0, h_matrix_first)]\n",
    "print(matrix_first)\n",
    "        "
   ]
  }
 ],
 "metadata": {
  "kernelspec": {
   "display_name": "Python 3",
   "language": "python",
   "name": "python3"
  },
  "language_info": {
   "codemirror_mode": {
    "name": "ipython",
    "version": 3
   },
   "file_extension": ".py",
   "mimetype": "text/x-python",
   "name": "python",
   "nbconvert_exporter": "python",
   "pygments_lexer": "ipython3",
   "version": "3.7.4"
  }
 },
 "nbformat": 4,
 "nbformat_minor": 4
}
