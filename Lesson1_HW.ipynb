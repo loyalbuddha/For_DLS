{
 "cells": [
  {
   "cell_type": "markdown",
   "metadata": {},
   "source": [
    "Задание 1\n",
    "\n",
    "Напишите код, который проверяет, является ли переменная x строкой, и если да, то если в строке больше одного слова \n",
    "(слово--последовательность подряд идущих символов без пробелов), то выводит на экран количество слов в этой строке и сами \n",
    "слова в алфавитном порядке\n"
   ]
  },
  {
   "cell_type": "code",
   "execution_count": null,
   "metadata": {},
   "outputs": [],
   "source": [
    "#решение 1\n",
    "x = input('Введите текст: ')\n",
    "b = type(x) == str\n",
    "if b:\n",
    "    print('Переменная является строкой.')\n",
    "    x_list = x.split()\n",
    "    x_list.sort()\n",
    "    c = ', '.join(x_list)\n",
    "    print(f'Количество слов в строке: {len(x_list)}\\n'\n",
    "          f'Слова в алфавитном порядке: {c}\\n')\n",
    "else:\n",
    "    print(f'Переменная является не строкой, она имеет тип {type(x)}.')"
   ]
  },
  {
   "cell_type": "code",
   "execution_count": null,
   "metadata": {},
   "outputs": [],
   "source": [
    "#решение 2\n",
    "try:\n",
    "    x = int(input('Введите текст: '))\n",
    "    print('Переменная является строкой.')\n",
    "    x_list = x.split()\n",
    "    x_list.sort()\n",
    "    c = ', '.join(x_list)\n",
    "    print(f'Количество слов в строке: {len(x_list)}\\n'\n",
    "          f'Слова в алфавитном порядке: {c}\\n')\n",
    "except ValueError:\n",
    "    print(f'Переменная является не строкой, она имеет {type(x)}.')"
   ]
  },
  {
   "cell_type": "markdown",
   "metadata": {},
   "source": [
    "Задание 2\n",
    "\n",
    "Напишите код, который все элементы массива x с нечетными индексами переставит в обратном порядке.\n",
    "\n",
    "Т.е. если x = [0, 1, 2, 3, 4, 5, 6, 7, 8, 9], то код должен получать [0, 9, 2, 7, 4, 5, 6, 3, 8, 1]\n"
   ]
  },
  {
   "cell_type": "code",
   "execution_count": 6,
   "metadata": {},
   "outputs": [
    {
     "name": "stdout",
     "output_type": "stream",
     "text": [
      "[4, 2, 5, 8, 6, 1]\n"
     ]
    }
   ],
   "source": [
    "#решение\n",
    "from random import randint \n",
    "my_list = [randint(0, 10) for el in range(0, randint(0, 20))]\n",
    "print(my_list)"
   ]
  }
 ],
 "metadata": {
  "kernelspec": {
   "display_name": "Python 3",
   "language": "python",
   "name": "python3"
  }
 },
 "nbformat": 4,
 "nbformat_minor": 4
}
